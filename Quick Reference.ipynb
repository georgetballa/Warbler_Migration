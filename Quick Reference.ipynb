version https://git-lfs.github.com/spec/v1
oid sha256:5b413ea67ad632fc07ef24814da6c9395163456b9fb911cc9e19d986a6109994
size 1252947
