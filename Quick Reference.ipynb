version https://git-lfs.github.com/spec/v1
oid sha256:a00c4e8387ef050e3e96a52737b6406bd0e0d0ea976c7e47ef65a1f328dbe12d
size 1103156
