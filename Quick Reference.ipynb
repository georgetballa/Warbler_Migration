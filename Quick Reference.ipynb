version https://git-lfs.github.com/spec/v1
oid sha256:fe1982df11a462a366b1f1ff296aa6b854f8235fb38ece19065053fb780cdfdb
size 929022
