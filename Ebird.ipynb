version https://git-lfs.github.com/spec/v1
oid sha256:b0a44100f3c1a5eec04ca6065cbe49c54d05b5f8742ea3ae0e16edc6a04220f8
size 5766
